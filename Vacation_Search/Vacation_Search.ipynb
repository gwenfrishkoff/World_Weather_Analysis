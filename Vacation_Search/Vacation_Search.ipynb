{
 "cells": [
  {
   "cell_type": "markdown",
   "metadata": {},
   "source": [
    "# *Deliverable #2: Create a customer travel destinations map*"
   ]
  },
  {
   "cell_type": "markdown",
   "metadata": {},
   "source": [
    "## Setup & Dependencies"
   ]
  },
  {
   "cell_type": "code",
   "execution_count": 1,
   "metadata": {},
   "outputs": [],
   "source": [
    "# Dependencies and Setup\n",
    "import pandas as pd\n",
    "import requests\n",
    "import gmaps\n",
    "import json\n",
    "import matplotlib as plt\n",
    "\n",
    "# Import API key\n",
    "from config import g_key\n",
    "\n",
    "# Configure gmaps API key\n",
    "gmaps.configure(api_key=g_key)"
   ]
  },
  {
   "cell_type": "code",
   "execution_count": 2,
   "metadata": {},
   "outputs": [],
   "source": [
    "# Check that api_key is correct\n",
    "#g_key\n",
    "\n",
    "## NOTE: Be sure to comment out this command & to delete output from file before pushing to GitHub"
   ]
  },
  {
   "cell_type": "code",
   "execution_count": 3,
   "metadata": {},
   "outputs": [
    {
     "data": {
      "text/plain": [
       "'0.9.0'"
      ]
     },
     "execution_count": 3,
     "metadata": {},
     "output_type": "execute_result"
    }
   ],
   "source": [
    "# Check gmaps installation\n",
    "gmaps.__version__"
   ]
  },
  {
   "cell_type": "markdown",
   "metadata": {},
   "source": [
    "## Import Source Data"
   ]
  },
  {
   "cell_type": "code",
   "execution_count": 4,
   "metadata": {},
   "outputs": [
    {
     "data": {
      "text/html": [
       "<div>\n",
       "<style scoped>\n",
       "    .dataframe tbody tr th:only-of-type {\n",
       "        vertical-align: middle;\n",
       "    }\n",
       "\n",
       "    .dataframe tbody tr th {\n",
       "        vertical-align: top;\n",
       "    }\n",
       "\n",
       "    .dataframe thead th {\n",
       "        text-align: right;\n",
       "    }\n",
       "</style>\n",
       "<table border=\"1\" class=\"dataframe\">\n",
       "  <thead>\n",
       "    <tr style=\"text-align: right;\">\n",
       "      <th></th>\n",
       "      <th>City_ID</th>\n",
       "      <th>City</th>\n",
       "      <th>Country</th>\n",
       "      <th>Lat</th>\n",
       "      <th>Lng</th>\n",
       "      <th>Max Temp</th>\n",
       "      <th>Min Temp</th>\n",
       "      <th>Humidity</th>\n",
       "      <th>Cloudiness</th>\n",
       "      <th>Wind Speed</th>\n",
       "      <th>Current Description</th>\n",
       "      <th>Date</th>\n",
       "    </tr>\n",
       "  </thead>\n",
       "  <tbody>\n",
       "    <tr>\n",
       "      <th>0</th>\n",
       "      <td>0</td>\n",
       "      <td>Punta Arenas</td>\n",
       "      <td>CL</td>\n",
       "      <td>-53.1500</td>\n",
       "      <td>-70.9167</td>\n",
       "      <td>33.91</td>\n",
       "      <td>33.91</td>\n",
       "      <td>86</td>\n",
       "      <td>40</td>\n",
       "      <td>4.61</td>\n",
       "      <td>scattered clouds</td>\n",
       "      <td>2022-08-05 23:29:16</td>\n",
       "    </tr>\n",
       "    <tr>\n",
       "      <th>1</th>\n",
       "      <td>1</td>\n",
       "      <td>Khatanga</td>\n",
       "      <td>RU</td>\n",
       "      <td>71.9667</td>\n",
       "      <td>102.5000</td>\n",
       "      <td>59.41</td>\n",
       "      <td>59.41</td>\n",
       "      <td>78</td>\n",
       "      <td>11</td>\n",
       "      <td>7.23</td>\n",
       "      <td>few clouds</td>\n",
       "      <td>2022-08-05 23:29:16</td>\n",
       "    </tr>\n",
       "    <tr>\n",
       "      <th>2</th>\n",
       "      <td>2</td>\n",
       "      <td>Kapaa</td>\n",
       "      <td>US</td>\n",
       "      <td>22.0752</td>\n",
       "      <td>-159.3190</td>\n",
       "      <td>83.48</td>\n",
       "      <td>82.11</td>\n",
       "      <td>70</td>\n",
       "      <td>20</td>\n",
       "      <td>11.50</td>\n",
       "      <td>few clouds</td>\n",
       "      <td>2022-08-05 23:29:17</td>\n",
       "    </tr>\n",
       "    <tr>\n",
       "      <th>3</th>\n",
       "      <td>3</td>\n",
       "      <td>Severo-Yeniseyskiy</td>\n",
       "      <td>RU</td>\n",
       "      <td>60.3725</td>\n",
       "      <td>93.0408</td>\n",
       "      <td>44.26</td>\n",
       "      <td>44.26</td>\n",
       "      <td>88</td>\n",
       "      <td>99</td>\n",
       "      <td>2.91</td>\n",
       "      <td>overcast clouds</td>\n",
       "      <td>2022-08-05 23:25:28</td>\n",
       "    </tr>\n",
       "    <tr>\n",
       "      <th>4</th>\n",
       "      <td>4</td>\n",
       "      <td>Katsuyama</td>\n",
       "      <td>JP</td>\n",
       "      <td>36.0617</td>\n",
       "      <td>136.5010</td>\n",
       "      <td>80.96</td>\n",
       "      <td>80.96</td>\n",
       "      <td>80</td>\n",
       "      <td>100</td>\n",
       "      <td>4.76</td>\n",
       "      <td>overcast clouds</td>\n",
       "      <td>2022-08-05 23:29:18</td>\n",
       "    </tr>\n",
       "  </tbody>\n",
       "</table>\n",
       "</div>"
      ],
      "text/plain": [
       "   City_ID                City Country      Lat       Lng  Max Temp  Min Temp  \\\n",
       "0        0        Punta Arenas      CL -53.1500  -70.9167     33.91     33.91   \n",
       "1        1            Khatanga      RU  71.9667  102.5000     59.41     59.41   \n",
       "2        2               Kapaa      US  22.0752 -159.3190     83.48     82.11   \n",
       "3        3  Severo-Yeniseyskiy      RU  60.3725   93.0408     44.26     44.26   \n",
       "4        4           Katsuyama      JP  36.0617  136.5010     80.96     80.96   \n",
       "\n",
       "   Humidity  Cloudiness  Wind Speed Current Description                 Date  \n",
       "0        86          40        4.61    scattered clouds  2022-08-05 23:29:16  \n",
       "1        78          11        7.23          few clouds  2022-08-05 23:29:16  \n",
       "2        70          20       11.50          few clouds  2022-08-05 23:29:17  \n",
       "3        88          99        2.91     overcast clouds  2022-08-05 23:25:28  \n",
       "4        80         100        4.76     overcast clouds  2022-08-05 23:29:18  "
      ]
     },
     "execution_count": 4,
     "metadata": {},
     "output_type": "execute_result"
    }
   ],
   "source": [
    "# Import the WeatherPy_database.csv file. \n",
    "city_data_df = pd.read_csv(\"WeatherPy_database.csv\")\n",
    "city_data_df.head()"
   ]
  },
  {
   "cell_type": "markdown",
   "metadata": {},
   "source": [
    "## Filter Data for Weather Preferences (Input Statements)"
   ]
  },
  {
   "cell_type": "code",
   "execution_count": 5,
   "metadata": {},
   "outputs": [
    {
     "data": {
      "text/html": [
       "<div>\n",
       "<style scoped>\n",
       "    .dataframe tbody tr th:only-of-type {\n",
       "        vertical-align: middle;\n",
       "    }\n",
       "\n",
       "    .dataframe tbody tr th {\n",
       "        vertical-align: top;\n",
       "    }\n",
       "\n",
       "    .dataframe thead th {\n",
       "        text-align: right;\n",
       "    }\n",
       "</style>\n",
       "<table border=\"1\" class=\"dataframe\">\n",
       "  <thead>\n",
       "    <tr style=\"text-align: right;\">\n",
       "      <th></th>\n",
       "      <th>City_ID</th>\n",
       "      <th>City</th>\n",
       "      <th>Country</th>\n",
       "      <th>Lat</th>\n",
       "      <th>Lng</th>\n",
       "      <th>Max Temp</th>\n",
       "      <th>Min Temp</th>\n",
       "      <th>Humidity</th>\n",
       "      <th>Cloudiness</th>\n",
       "      <th>Wind Speed</th>\n",
       "      <th>Current Description</th>\n",
       "      <th>Date</th>\n",
       "      <th>min_temp</th>\n",
       "      <th>max_temp</th>\n",
       "    </tr>\n",
       "  </thead>\n",
       "  <tbody>\n",
       "    <tr>\n",
       "      <th>0</th>\n",
       "      <td>0</td>\n",
       "      <td>Punta Arenas</td>\n",
       "      <td>CL</td>\n",
       "      <td>-53.1500</td>\n",
       "      <td>-70.9167</td>\n",
       "      <td>33.91</td>\n",
       "      <td>33.91</td>\n",
       "      <td>86</td>\n",
       "      <td>40</td>\n",
       "      <td>4.61</td>\n",
       "      <td>scattered clouds</td>\n",
       "      <td>2022-08-05 23:29:16</td>\n",
       "      <td></td>\n",
       "      <td></td>\n",
       "    </tr>\n",
       "    <tr>\n",
       "      <th>1</th>\n",
       "      <td>1</td>\n",
       "      <td>Khatanga</td>\n",
       "      <td>RU</td>\n",
       "      <td>71.9667</td>\n",
       "      <td>102.5000</td>\n",
       "      <td>59.41</td>\n",
       "      <td>59.41</td>\n",
       "      <td>78</td>\n",
       "      <td>11</td>\n",
       "      <td>7.23</td>\n",
       "      <td>few clouds</td>\n",
       "      <td>2022-08-05 23:29:16</td>\n",
       "      <td></td>\n",
       "      <td></td>\n",
       "    </tr>\n",
       "    <tr>\n",
       "      <th>2</th>\n",
       "      <td>2</td>\n",
       "      <td>Kapaa</td>\n",
       "      <td>US</td>\n",
       "      <td>22.0752</td>\n",
       "      <td>-159.3190</td>\n",
       "      <td>83.48</td>\n",
       "      <td>82.11</td>\n",
       "      <td>70</td>\n",
       "      <td>20</td>\n",
       "      <td>11.50</td>\n",
       "      <td>few clouds</td>\n",
       "      <td>2022-08-05 23:29:17</td>\n",
       "      <td></td>\n",
       "      <td></td>\n",
       "    </tr>\n",
       "    <tr>\n",
       "      <th>3</th>\n",
       "      <td>3</td>\n",
       "      <td>Severo-Yeniseyskiy</td>\n",
       "      <td>RU</td>\n",
       "      <td>60.3725</td>\n",
       "      <td>93.0408</td>\n",
       "      <td>44.26</td>\n",
       "      <td>44.26</td>\n",
       "      <td>88</td>\n",
       "      <td>99</td>\n",
       "      <td>2.91</td>\n",
       "      <td>overcast clouds</td>\n",
       "      <td>2022-08-05 23:25:28</td>\n",
       "      <td></td>\n",
       "      <td></td>\n",
       "    </tr>\n",
       "    <tr>\n",
       "      <th>4</th>\n",
       "      <td>4</td>\n",
       "      <td>Katsuyama</td>\n",
       "      <td>JP</td>\n",
       "      <td>36.0617</td>\n",
       "      <td>136.5010</td>\n",
       "      <td>80.96</td>\n",
       "      <td>80.96</td>\n",
       "      <td>80</td>\n",
       "      <td>100</td>\n",
       "      <td>4.76</td>\n",
       "      <td>overcast clouds</td>\n",
       "      <td>2022-08-05 23:29:18</td>\n",
       "      <td></td>\n",
       "      <td></td>\n",
       "    </tr>\n",
       "  </tbody>\n",
       "</table>\n",
       "</div>"
      ],
      "text/plain": [
       "   City_ID                City Country      Lat       Lng  Max Temp  Min Temp  \\\n",
       "0        0        Punta Arenas      CL -53.1500  -70.9167     33.91     33.91   \n",
       "1        1            Khatanga      RU  71.9667  102.5000     59.41     59.41   \n",
       "2        2               Kapaa      US  22.0752 -159.3190     83.48     82.11   \n",
       "3        3  Severo-Yeniseyskiy      RU  60.3725   93.0408     44.26     44.26   \n",
       "4        4           Katsuyama      JP  36.0617  136.5010     80.96     80.96   \n",
       "\n",
       "   Humidity  Cloudiness  Wind Speed Current Description                 Date  \\\n",
       "0        86          40        4.61    scattered clouds  2022-08-05 23:29:16   \n",
       "1        78          11        7.23          few clouds  2022-08-05 23:29:16   \n",
       "2        70          20       11.50          few clouds  2022-08-05 23:29:17   \n",
       "3        88          99        2.91     overcast clouds  2022-08-05 23:25:28   \n",
       "4        80         100        4.76     overcast clouds  2022-08-05 23:29:18   \n",
       "\n",
       "  min_temp max_temp  \n",
       "0                    \n",
       "1                    \n",
       "2                    \n",
       "3                    \n",
       "4                    "
      ]
     },
     "execution_count": 5,
     "metadata": {},
     "output_type": "execute_result"
    }
   ],
   "source": [
    "# Add new columns to DF to hold user inputs\n",
    "city_data_df['min_temp'] = \"\"\n",
    "city_data_df['max_temp'] = \"\"\n",
    "\n",
    "city_data_df.head()"
   ]
  },
  {
   "cell_type": "code",
   "execution_count": 6,
   "metadata": {},
   "outputs": [
    {
     "name": "stdout",
     "output_type": "stream",
     "text": [
      "What is the coolest acceptable temperature for your vacation?65\n"
     ]
    }
   ],
   "source": [
    "# Prompt the user to enter minimum acceptable temperature \n",
    "min_temp = float(input(\"What is the coolest acceptable temperature for your vacation?\"))"
   ]
  },
  {
   "cell_type": "code",
   "execution_count": 7,
   "metadata": {},
   "outputs": [
    {
     "name": "stdout",
     "output_type": "stream",
     "text": [
      "What is the hottest acceptable temperature for your vacation?95\n"
     ]
    }
   ],
   "source": [
    "# Prompt the user to enter maximum acceptable temperature \n",
    "max_temp = float(input(\"What is the hottest acceptable temperature for your vacation?\"))"
   ]
  },
  {
   "cell_type": "code",
   "execution_count": 10,
   "metadata": {},
   "outputs": [],
   "source": [
    "# Filter the city_data_df DataFrame using the input statements to create a new DataFrame.\n",
    "filtered_city_data_df = city_data_df.loc[(city_data_df[\"Min Temp\"] >= min_temp) &\n",
    "                                        (city_data_df[\"Max Temp\"] <= max_temp)]"
   ]
  },
  {
   "cell_type": "markdown",
   "metadata": {},
   "source": [
    "## Clean Filtered Data"
   ]
  },
  {
   "cell_type": "code",
   "execution_count": 11,
   "metadata": {},
   "outputs": [
    {
     "data": {
      "text/plain": [
       "City_ID                382\n",
       "City                   382\n",
       "Country                382\n",
       "Lat                    382\n",
       "Lng                    382\n",
       "Max Temp               382\n",
       "Min Temp               382\n",
       "Humidity               382\n",
       "Cloudiness             382\n",
       "Wind Speed             382\n",
       "Current Description    382\n",
       "Date                   382\n",
       "min_temp               382\n",
       "max_temp               382\n",
       "dtype: int64"
      ]
     },
     "execution_count": 11,
     "metadata": {},
     "output_type": "execute_result"
    }
   ],
   "source": [
    "# Determine if there are any empty rows.\n",
    "filtered_city_data_df.count()"
   ]
  },
  {
   "cell_type": "code",
   "execution_count": 12,
   "metadata": {},
   "outputs": [
    {
     "data": {
      "text/plain": [
       "City_ID                382\n",
       "City                   382\n",
       "Country                382\n",
       "Lat                    382\n",
       "Lng                    382\n",
       "Max Temp               382\n",
       "Min Temp               382\n",
       "Humidity               382\n",
       "Cloudiness             382\n",
       "Wind Speed             382\n",
       "Current Description    382\n",
       "Date                   382\n",
       "min_temp               382\n",
       "max_temp               382\n",
       "dtype: int64"
      ]
     },
     "execution_count": 12,
     "metadata": {},
     "output_type": "execute_result"
    }
   ],
   "source": [
    "# Drop any empty rows and create a new DataFrame that doesn’t have empty rows.\n",
    "filtered_city_data_df = filtered_city_data_df.dropna()\n",
    "filtered_city_data_df.count()"
   ]
  },
  {
   "cell_type": "markdown",
   "metadata": {},
   "source": [
    "## Retrieve hotel data (Python *Requests* & *JSON Traversals*) "
   ]
  },
  {
   "cell_type": "code",
   "execution_count": 40,
   "metadata": {},
   "outputs": [
    {
     "data": {
      "text/html": [
       "<div>\n",
       "<style scoped>\n",
       "    .dataframe tbody tr th:only-of-type {\n",
       "        vertical-align: middle;\n",
       "    }\n",
       "\n",
       "    .dataframe tbody tr th {\n",
       "        vertical-align: top;\n",
       "    }\n",
       "\n",
       "    .dataframe thead th {\n",
       "        text-align: right;\n",
       "    }\n",
       "</style>\n",
       "<table border=\"1\" class=\"dataframe\">\n",
       "  <thead>\n",
       "    <tr style=\"text-align: right;\">\n",
       "      <th></th>\n",
       "      <th>City</th>\n",
       "      <th>Country</th>\n",
       "      <th>Max Temp</th>\n",
       "      <th>Min Temp</th>\n",
       "      <th>Current Description</th>\n",
       "      <th>Lat</th>\n",
       "      <th>Lng</th>\n",
       "      <th>Hotel Name</th>\n",
       "    </tr>\n",
       "  </thead>\n",
       "  <tbody>\n",
       "    <tr>\n",
       "      <th>2</th>\n",
       "      <td>Kapaa</td>\n",
       "      <td>US</td>\n",
       "      <td>83.48</td>\n",
       "      <td>82.11</td>\n",
       "      <td>few clouds</td>\n",
       "      <td>22.0752</td>\n",
       "      <td>-159.3190</td>\n",
       "      <td></td>\n",
       "    </tr>\n",
       "    <tr>\n",
       "      <th>4</th>\n",
       "      <td>Katsuyama</td>\n",
       "      <td>JP</td>\n",
       "      <td>80.96</td>\n",
       "      <td>80.96</td>\n",
       "      <td>overcast clouds</td>\n",
       "      <td>36.0617</td>\n",
       "      <td>136.5010</td>\n",
       "      <td></td>\n",
       "    </tr>\n",
       "    <tr>\n",
       "      <th>6</th>\n",
       "      <td>Moose Factory</td>\n",
       "      <td>CA</td>\n",
       "      <td>77.00</td>\n",
       "      <td>75.18</td>\n",
       "      <td>overcast clouds</td>\n",
       "      <td>51.2585</td>\n",
       "      <td>-80.6094</td>\n",
       "      <td></td>\n",
       "    </tr>\n",
       "    <tr>\n",
       "      <th>8</th>\n",
       "      <td>Aklavik</td>\n",
       "      <td>CA</td>\n",
       "      <td>77.00</td>\n",
       "      <td>77.00</td>\n",
       "      <td>broken clouds</td>\n",
       "      <td>68.2191</td>\n",
       "      <td>-135.0107</td>\n",
       "      <td></td>\n",
       "    </tr>\n",
       "    <tr>\n",
       "      <th>9</th>\n",
       "      <td>Edd</td>\n",
       "      <td>ER</td>\n",
       "      <td>89.58</td>\n",
       "      <td>89.58</td>\n",
       "      <td>light rain</td>\n",
       "      <td>13.9297</td>\n",
       "      <td>41.6925</td>\n",
       "      <td></td>\n",
       "    </tr>\n",
       "    <tr>\n",
       "      <th>11</th>\n",
       "      <td>Chermen</td>\n",
       "      <td>RU</td>\n",
       "      <td>65.44</td>\n",
       "      <td>65.25</td>\n",
       "      <td>mist</td>\n",
       "      <td>43.1486</td>\n",
       "      <td>44.7069</td>\n",
       "      <td></td>\n",
       "    </tr>\n",
       "    <tr>\n",
       "      <th>15</th>\n",
       "      <td>Palu</td>\n",
       "      <td>ID</td>\n",
       "      <td>75.79</td>\n",
       "      <td>75.79</td>\n",
       "      <td>overcast clouds</td>\n",
       "      <td>-0.8917</td>\n",
       "      <td>119.8707</td>\n",
       "      <td></td>\n",
       "    </tr>\n",
       "    <tr>\n",
       "      <th>16</th>\n",
       "      <td>Daru</td>\n",
       "      <td>PG</td>\n",
       "      <td>79.27</td>\n",
       "      <td>79.27</td>\n",
       "      <td>overcast clouds</td>\n",
       "      <td>-9.0763</td>\n",
       "      <td>143.2092</td>\n",
       "      <td></td>\n",
       "    </tr>\n",
       "    <tr>\n",
       "      <th>21</th>\n",
       "      <td>Nishihara</td>\n",
       "      <td>JP</td>\n",
       "      <td>85.28</td>\n",
       "      <td>83.68</td>\n",
       "      <td>scattered clouds</td>\n",
       "      <td>26.1842</td>\n",
       "      <td>127.7558</td>\n",
       "      <td></td>\n",
       "    </tr>\n",
       "    <tr>\n",
       "      <th>25</th>\n",
       "      <td>Westport</td>\n",
       "      <td>US</td>\n",
       "      <td>86.02</td>\n",
       "      <td>79.86</td>\n",
       "      <td>clear sky</td>\n",
       "      <td>41.1415</td>\n",
       "      <td>-73.3579</td>\n",
       "      <td></td>\n",
       "    </tr>\n",
       "  </tbody>\n",
       "</table>\n",
       "</div>"
      ],
      "text/plain": [
       "             City Country  Max Temp  Min Temp Current Description      Lat  \\\n",
       "2           Kapaa      US     83.48     82.11          few clouds  22.0752   \n",
       "4       Katsuyama      JP     80.96     80.96     overcast clouds  36.0617   \n",
       "6   Moose Factory      CA     77.00     75.18     overcast clouds  51.2585   \n",
       "8         Aklavik      CA     77.00     77.00       broken clouds  68.2191   \n",
       "9             Edd      ER     89.58     89.58          light rain  13.9297   \n",
       "11        Chermen      RU     65.44     65.25                mist  43.1486   \n",
       "15           Palu      ID     75.79     75.79     overcast clouds  -0.8917   \n",
       "16           Daru      PG     79.27     79.27     overcast clouds  -9.0763   \n",
       "21      Nishihara      JP     85.28     83.68    scattered clouds  26.1842   \n",
       "25       Westport      US     86.02     79.86           clear sky  41.1415   \n",
       "\n",
       "         Lng Hotel Name  \n",
       "2  -159.3190             \n",
       "4   136.5010             \n",
       "6   -80.6094             \n",
       "8  -135.0107             \n",
       "9    41.6925             \n",
       "11   44.7069             \n",
       "15  119.8707             \n",
       "16  143.2092             \n",
       "21  127.7558             \n",
       "25  -73.3579             "
      ]
     },
     "execution_count": 40,
     "metadata": {},
     "output_type": "execute_result"
    }
   ],
   "source": [
    "# Create hotel_df to store city, country, max temp, min temp, current weather conditions, & coordinates.\n",
    "hotel_df = filtered_city_data_df[[\"City\", \"Country\", \"Max Temp\", \"Min Temp\", \"Current Description\", \"Lat\", \"Lng\"]].copy()\n",
    "\n",
    "# Create a new column \"Hotel Name\"\n",
    "hotel_df[\"Hotel Name\"] = \"\"\n",
    "hotel_df.head(10)"
   ]
  },
  {
   "cell_type": "code",
   "execution_count": 41,
   "metadata": {},
   "outputs": [
    {
     "name": "stdout",
     "output_type": "stream",
     "text": [
      "Hotel Not found... skipping...\n",
      "Hotel Not found... skipping...\n",
      "Hotel Not found... skipping...\n",
      "Hotel Not found... skipping...\n",
      "Hotel Not found... skipping...\n",
      "Hotel Not found... skipping...\n",
      "Hotel Not found... skipping...\n",
      "Hotel Not found... skipping...\n",
      "Hotel Not found... skipping...\n",
      "Hotel Not found... skipping...\n",
      "Hotel Not found... skipping...\n",
      "Hotel Not found... skipping...\n",
      "Hotel Not found... skipping...\n",
      "Hotel Not found... skipping...\n",
      "Hotel Not found... skipping...\n",
      "Hotel Not found... skipping...\n",
      "Hotel Not found... skipping...\n",
      "Hotel Not found... skipping...\n",
      "Hotel Not found... skipping...\n",
      "Hotel Not found... skipping...\n",
      "Hotel Not found... skipping...\n",
      "Hotel Not found... skipping...\n",
      "Hotel Not found... skipping...\n",
      "Hotel Not found... skipping...\n",
      "Hotel Not found... skipping...\n",
      "Hotel Not found... skipping...\n",
      "Hotel Not found... skipping...\n",
      "Hotel Not found... skipping...\n",
      "Hotel Not found... skipping...\n",
      "Hotel Not found... skipping...\n",
      "Hotel Not found... skipping...\n",
      "Hotel Not found... skipping...\n",
      "Hotel Not found... skipping...\n",
      "Hotel Not found... skipping...\n"
     ]
    }
   ],
   "source": [
    "# Set parameters (Dict Keys) to search for hotels within 5000 meters.\n",
    "params = {\n",
    "    \"radius\": 5000,\n",
    "    \"type\": \"lodging\",\n",
    "    \"key\": g_key\n",
    "}\n",
    "\n",
    "# Iterate through the hotel DataFrame.\n",
    "for index, row in hotel_df.iterrows():\n",
    "    # Get latitude and longitude from DataFrame\n",
    "    lat = row[\"Lat\"]\n",
    "    lng = row[\"Lng\"]\n",
    "    \n",
    "    params[\"location\"] = f\"{lat},{lng}\"\n",
    "#    print(params)\n",
    "#    print(index)\n",
    "    \n",
    "    # Set up the base URL for the Google Directions API to get JSON data.\n",
    "    base_url = \"https://maps.googleapis.com/maps/api/place/nearbysearch/json\"\n",
    "\n",
    "    # Make request and retrieve the JSON data from the search. \n",
    "    hotels = requests.get(base_url, params=params).json()\n",
    "    \n",
    "    # Get the first hotel from the results and store the name, if a hotel isn't found skip the city.\n",
    "    try:\n",
    "        hotel_df.loc[index, \"Hotel Name\"] = hotels[\"results\"][0][\"name\"]\n",
    "    except IndexError:\n",
    "        print(\"Hotel Not found... skipping...\")   "
   ]
  },
  {
   "cell_type": "code",
   "execution_count": 42,
   "metadata": {},
   "outputs": [
    {
     "data": {
      "text/html": [
       "<div>\n",
       "<style scoped>\n",
       "    .dataframe tbody tr th:only-of-type {\n",
       "        vertical-align: middle;\n",
       "    }\n",
       "\n",
       "    .dataframe tbody tr th {\n",
       "        vertical-align: top;\n",
       "    }\n",
       "\n",
       "    .dataframe thead th {\n",
       "        text-align: right;\n",
       "    }\n",
       "</style>\n",
       "<table border=\"1\" class=\"dataframe\">\n",
       "  <thead>\n",
       "    <tr style=\"text-align: right;\">\n",
       "      <th></th>\n",
       "      <th>City</th>\n",
       "      <th>Country</th>\n",
       "      <th>Max Temp</th>\n",
       "      <th>Min Temp</th>\n",
       "      <th>Current Description</th>\n",
       "      <th>Lat</th>\n",
       "      <th>Lng</th>\n",
       "      <th>Hotel Name</th>\n",
       "    </tr>\n",
       "  </thead>\n",
       "  <tbody>\n",
       "    <tr>\n",
       "      <th>2</th>\n",
       "      <td>Kapaa</td>\n",
       "      <td>US</td>\n",
       "      <td>83.48</td>\n",
       "      <td>82.11</td>\n",
       "      <td>few clouds</td>\n",
       "      <td>22.0752</td>\n",
       "      <td>-159.3190</td>\n",
       "      <td>Sheraton Kauai Coconut Beach Resort Hotel</td>\n",
       "    </tr>\n",
       "    <tr>\n",
       "      <th>4</th>\n",
       "      <td>Katsuyama</td>\n",
       "      <td>JP</td>\n",
       "      <td>80.96</td>\n",
       "      <td>80.96</td>\n",
       "      <td>overcast clouds</td>\n",
       "      <td>36.0617</td>\n",
       "      <td>136.5010</td>\n",
       "      <td>Pension UPO</td>\n",
       "    </tr>\n",
       "    <tr>\n",
       "      <th>6</th>\n",
       "      <td>Moose Factory</td>\n",
       "      <td>CA</td>\n",
       "      <td>77.00</td>\n",
       "      <td>75.18</td>\n",
       "      <td>overcast clouds</td>\n",
       "      <td>51.2585</td>\n",
       "      <td>-80.6094</td>\n",
       "      <td>Cree Village Eco Lodge</td>\n",
       "    </tr>\n",
       "    <tr>\n",
       "      <th>8</th>\n",
       "      <td>Aklavik</td>\n",
       "      <td>CA</td>\n",
       "      <td>77.00</td>\n",
       "      <td>77.00</td>\n",
       "      <td>broken clouds</td>\n",
       "      <td>68.2191</td>\n",
       "      <td>-135.0107</td>\n",
       "      <td>Aklavik Inn</td>\n",
       "    </tr>\n",
       "    <tr>\n",
       "      <th>9</th>\n",
       "      <td>Edd</td>\n",
       "      <td>ER</td>\n",
       "      <td>89.58</td>\n",
       "      <td>89.58</td>\n",
       "      <td>light rain</td>\n",
       "      <td>13.9297</td>\n",
       "      <td>41.6925</td>\n",
       "      <td></td>\n",
       "    </tr>\n",
       "    <tr>\n",
       "      <th>11</th>\n",
       "      <td>Chermen</td>\n",
       "      <td>RU</td>\n",
       "      <td>65.44</td>\n",
       "      <td>65.25</td>\n",
       "      <td>mist</td>\n",
       "      <td>43.1486</td>\n",
       "      <td>44.7069</td>\n",
       "      <td></td>\n",
       "    </tr>\n",
       "    <tr>\n",
       "      <th>15</th>\n",
       "      <td>Palu</td>\n",
       "      <td>ID</td>\n",
       "      <td>75.79</td>\n",
       "      <td>75.79</td>\n",
       "      <td>overcast clouds</td>\n",
       "      <td>-0.8917</td>\n",
       "      <td>119.8707</td>\n",
       "      <td>Hotel Santika Palu</td>\n",
       "    </tr>\n",
       "    <tr>\n",
       "      <th>16</th>\n",
       "      <td>Daru</td>\n",
       "      <td>PG</td>\n",
       "      <td>79.27</td>\n",
       "      <td>79.27</td>\n",
       "      <td>overcast clouds</td>\n",
       "      <td>-9.0763</td>\n",
       "      <td>143.2092</td>\n",
       "      <td>Daru Lodge</td>\n",
       "    </tr>\n",
       "    <tr>\n",
       "      <th>21</th>\n",
       "      <td>Nishihara</td>\n",
       "      <td>JP</td>\n",
       "      <td>85.28</td>\n",
       "      <td>83.68</td>\n",
       "      <td>scattered clouds</td>\n",
       "      <td>26.1842</td>\n",
       "      <td>127.7558</td>\n",
       "      <td>Minshuku Agaihama</td>\n",
       "    </tr>\n",
       "    <tr>\n",
       "      <th>25</th>\n",
       "      <td>Westport</td>\n",
       "      <td>US</td>\n",
       "      <td>86.02</td>\n",
       "      <td>79.86</td>\n",
       "      <td>clear sky</td>\n",
       "      <td>41.1415</td>\n",
       "      <td>-73.3579</td>\n",
       "      <td>The Westport Inn</td>\n",
       "    </tr>\n",
       "  </tbody>\n",
       "</table>\n",
       "</div>"
      ],
      "text/plain": [
       "             City Country  Max Temp  Min Temp Current Description      Lat  \\\n",
       "2           Kapaa      US     83.48     82.11          few clouds  22.0752   \n",
       "4       Katsuyama      JP     80.96     80.96     overcast clouds  36.0617   \n",
       "6   Moose Factory      CA     77.00     75.18     overcast clouds  51.2585   \n",
       "8         Aklavik      CA     77.00     77.00       broken clouds  68.2191   \n",
       "9             Edd      ER     89.58     89.58          light rain  13.9297   \n",
       "11        Chermen      RU     65.44     65.25                mist  43.1486   \n",
       "15           Palu      ID     75.79     75.79     overcast clouds  -0.8917   \n",
       "16           Daru      PG     79.27     79.27     overcast clouds  -9.0763   \n",
       "21      Nishihara      JP     85.28     83.68    scattered clouds  26.1842   \n",
       "25       Westport      US     86.02     79.86           clear sky  41.1415   \n",
       "\n",
       "         Lng                                 Hotel Name  \n",
       "2  -159.3190  Sheraton Kauai Coconut Beach Resort Hotel  \n",
       "4   136.5010                                Pension UPO  \n",
       "6   -80.6094                     Cree Village Eco Lodge  \n",
       "8  -135.0107                                Aklavik Inn  \n",
       "9    41.6925                                             \n",
       "11   44.7069                                             \n",
       "15  119.8707                         Hotel Santika Palu  \n",
       "16  143.2092                                 Daru Lodge  \n",
       "21  127.7558                          Minshuku Agaihama  \n",
       "25  -73.3579                           The Westport Inn  "
      ]
     },
     "execution_count": 42,
     "metadata": {},
     "output_type": "execute_result"
    }
   ],
   "source": [
    "# View results of JSON query\n",
    "hotel_df.head(10)"
   ]
  },
  {
   "cell_type": "code",
   "execution_count": 45,
   "metadata": {},
   "outputs": [
    {
     "data": {
      "text/plain": [
       "City                   382\n",
       "Country                382\n",
       "Max Temp               382\n",
       "Min Temp               382\n",
       "Current Description    382\n",
       "Lat                    382\n",
       "Lng                    382\n",
       "Hotel Name             382\n",
       "dtype: int64"
      ]
     },
     "execution_count": 45,
     "metadata": {},
     "output_type": "execute_result"
    }
   ],
   "source": [
    "hotel_df.count()"
   ]
  },
  {
   "cell_type": "markdown",
   "metadata": {},
   "source": [
    "## Clean-up retrieved hotel data"
   ]
  },
  {
   "cell_type": "code",
   "execution_count": 47,
   "metadata": {},
   "outputs": [],
   "source": [
    "# Determine if there are any rows where a hotel name wasn't found\n",
    "cleaned_hotel_df = hotel_df[hotel_df[\"Hotel Name\"] != \"\"]"
   ]
  },
  {
   "cell_type": "code",
   "execution_count": 48,
   "metadata": {},
   "outputs": [
    {
     "data": {
      "text/plain": [
       "City                   348\n",
       "Country                348\n",
       "Max Temp               348\n",
       "Min Temp               348\n",
       "Current Description    348\n",
       "Lat                    348\n",
       "Lng                    348\n",
       "Hotel Name             348\n",
       "dtype: int64"
      ]
     },
     "execution_count": 48,
     "metadata": {},
     "output_type": "execute_result"
    }
   ],
   "source": [
    "cleaned_hotel_df.count()"
   ]
  },
  {
   "cell_type": "code",
   "execution_count": 49,
   "metadata": {},
   "outputs": [],
   "source": [
    "# Create the output File (CSV)\n",
    "output_data_file = \"WeatherPy_vacation.csv\"\n",
    "\n",
    "# Export the City_Data into a csv\n",
    "cleaned_hotel_df.to_csv(output_data_file)"
   ]
  },
  {
   "cell_type": "markdown",
   "metadata": {},
   "source": [
    "## Retrieve Data for WeatherPy_vacation (marker layer) map"
   ]
  },
  {
   "cell_type": "code",
   "execution_count": 52,
   "metadata": {},
   "outputs": [],
   "source": [
    "# Using the template add city name, the country code, the weather description and min & max temperature for the city.\n",
    "info_box_template = \"\"\"\n",
    "<dl>\n",
    "<dt>Hotel Name</dt><dd>{Hotel Name}</dd>\n",
    "<dt>City</dt><dd>{City}</dd>\n",
    "<dt>Country</dt><dd>{Country}</dd>\n",
    "<dt>Current Description</dt><dd>{Current Description}</dd>\n",
    "<dt>Min Temp</dt><dd>{Min Temp}</dd>\n",
    "<dt>Max Temp</dt><dd>{Max Temp}</dd>\n",
    "\"\"\"\n",
    "\n",
    "# Get the data from each row and add it to the formatting template and store the data in a list.\n",
    "hotel_info = [info_box_template.format(**row) for index, row in cleaned_hotel_df.iterrows()]\n",
    "\n",
    "# Get the latitude and longitude from each row and store in a new DataFrame.\n",
    "locations = cleaned_hotel_df[[\"Lat\", \"Lng\"]]"
   ]
  },
  {
   "cell_type": "markdown",
   "metadata": {},
   "source": [
    "## Create the WeatherPy_vacation (marker layer) map"
   ]
  },
  {
   "cell_type": "code",
   "execution_count": 53,
   "metadata": {},
   "outputs": [
    {
     "data": {
      "application/vnd.jupyter.widget-view+json": {
       "model_id": "4b6b4dc8778145509164ee35ddf7e291",
       "version_major": 2,
       "version_minor": 0
      },
      "text/plain": [
       "Figure(layout=FigureLayout(height='420px'))"
      ]
     },
     "metadata": {},
     "output_type": "display_data"
    }
   ],
   "source": [
    "# Add a marker layer for each city to the map. \n",
    "marker_layer = gmaps.marker_layer(locations,info_box_content=hotel_info)\n",
    "\n",
    "# Define fig object\n",
    "fig = gmaps.figure()\n",
    "\n",
    "# Add the layer to the map\n",
    "fig.add_layer(marker_layer)\n",
    "\n",
    "# Display the figure\n",
    "fig"
   ]
  }
 ],
 "metadata": {
  "kernelspec": {
   "display_name": "Python 3 (ipykernel)",
   "language": "python",
   "name": "python3"
  },
  "language_info": {
   "codemirror_mode": {
    "name": "ipython",
    "version": 3
   },
   "file_extension": ".py",
   "mimetype": "text/x-python",
   "name": "python",
   "nbconvert_exporter": "python",
   "pygments_lexer": "ipython3",
   "version": "3.9.7"
  },
  "latex_envs": {
   "LaTeX_envs_menu_present": true,
   "autoclose": false,
   "autocomplete": true,
   "bibliofile": "biblio.bib",
   "cite_by": "apalike",
   "current_citInitial": 1,
   "eqLabelWithNumbers": true,
   "eqNumInitial": 1,
   "hotkeys": {
    "equation": "Ctrl-E",
    "itemize": "Ctrl-I"
   },
   "labels_anchors": false,
   "latex_user_defs": false,
   "report_style_numbering": false,
   "user_envs_cfg": false
  }
 },
 "nbformat": 4,
 "nbformat_minor": 2
}
