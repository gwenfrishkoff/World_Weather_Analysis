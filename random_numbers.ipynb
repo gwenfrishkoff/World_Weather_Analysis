{
 "cells": [
  {
   "cell_type": "code",
   "execution_count": 1,
   "id": "1992fcfc",
   "metadata": {},
   "outputs": [],
   "source": [
    "# Import the random module.\n",
    "import random"
   ]
  },
  {
   "cell_type": "code",
   "execution_count": 2,
   "id": "9771b28e",
   "metadata": {},
   "outputs": [
    {
     "data": {
      "text/plain": [
       "-52"
      ]
     },
     "execution_count": 2,
     "metadata": {},
     "output_type": "execute_result"
    }
   ],
   "source": [
    "# Generate a random integer between -90 and +90\n",
    "random.randint(-90, 90)"
   ]
  },
  {
   "cell_type": "code",
   "execution_count": 4,
   "id": "bbd1d7e8",
   "metadata": {},
   "outputs": [
    {
     "data": {
      "text/plain": [
       "0.5720651201526112"
      ]
     },
     "execution_count": 4,
     "metadata": {},
     "output_type": "execute_result"
    }
   ],
   "source": [
    "# Generate a random floating-point decimal between 0 and 1\n",
    "random.random()"
   ]
  },
  {
   "cell_type": "code",
   "execution_count": 10,
   "id": "f409e442",
   "metadata": {},
   "outputs": [
    {
     "data": {
      "text/plain": [
       "[-35, -68, -62, -50, -22, 55, 75, -56, 67, -68]"
      ]
     },
     "execution_count": 10,
     "metadata": {},
     "output_type": "execute_result"
    }
   ],
   "source": [
    "# Generate ten random integers between -90 and 89\n",
    "x = 1\n",
    "latitudes = []\n",
    "while x < 11:\n",
    "    random_lat = random.randint(-90, 89)\n",
    "    latitudes.append(random_lat)\n",
    "    x += 1\n",
    "\n",
    "latitudes   "
   ]
  },
  {
   "cell_type": "code",
   "execution_count": 8,
   "id": "122988ec",
   "metadata": {},
   "outputs": [
    {
     "data": {
      "text/plain": [
       "[84, -36, -24, -42, 39, 72, -9, -12, 21, -69]"
      ]
     },
     "execution_count": 8,
     "metadata": {},
     "output_type": "execute_result"
    }
   ],
   "source": [
    "# Generate ten random integer latitudes between -90 and 90, incrementing by 3\n",
    "x = 1\n",
    "rand_step3 = []\n",
    "while x < 11:\n",
    "    random_lat = random.randrange(-90, 90, step=3)\n",
    "    rand_step3.append(random_lat)\n",
    "    x += 1\n",
    "\n",
    "rand_step3"
   ]
  },
  {
   "cell_type": "code",
   "execution_count": 9,
   "id": "6e8d9207",
   "metadata": {},
   "outputs": [
    {
     "data": {
      "text/plain": [
       "[-33.052652485488785,\n",
       " -21.879986593513777,\n",
       " 67.58899921485428,\n",
       " 61.0885157467134,\n",
       " 85.65399229076445,\n",
       " -45.794343973754124,\n",
       " 50.64128674769216,\n",
       " 29.966842204640884,\n",
       " -83.9957726484691,\n",
       " 5.027611914353173]"
      ]
     },
     "execution_count": 9,
     "metadata": {},
     "output_type": "execute_result"
    }
   ],
   "source": [
    "# Generate ten random floating-point decimal latitudes between -90 and 90\n",
    "x = 1\n",
    "rand_float = []\n",
    "while x < 11:\n",
    "    random_lat = random.uniform(-90, 90)\n",
    "    rand_float.append(random_lat)\n",
    "    x += 1\n",
    "\n",
    "rand_float"
   ]
  },
  {
   "cell_type": "code",
   "execution_count": 11,
   "id": "8ef11400",
   "metadata": {},
   "outputs": [],
   "source": [
    "# Import the NumPy module.\n",
    "import numpy as np"
   ]
  },
  {
   "cell_type": "code",
   "execution_count": 12,
   "id": "ef40859b",
   "metadata": {},
   "outputs": [
    {
     "data": {
      "text/plain": [
       "-59.286114624165506"
      ]
     },
     "execution_count": 12,
     "metadata": {},
     "output_type": "execute_result"
    }
   ],
   "source": [
    "# Use NumPy to generate a random floating-point decimal between -90 and +90 (Method #1)\n",
    "np.random.uniform(-90.000, 90.000)"
   ]
  },
  {
   "cell_type": "code",
   "execution_count": 14,
   "id": "3dab9697",
   "metadata": {},
   "outputs": [
    {
     "data": {
      "text/plain": [
       "18.003356418118457"
      ]
     },
     "execution_count": 14,
     "metadata": {},
     "output_type": "execute_result"
    }
   ],
   "source": [
    "# Use NumPy to generate a random floating-point decimal between -90 and +90 (Method #2)\n",
    "np.random.uniform(low=-90, high=90)"
   ]
  },
  {
   "cell_type": "code",
   "execution_count": 15,
   "id": "417a2688",
   "metadata": {},
   "outputs": [
    {
     "data": {
      "text/plain": [
       "array([-41.95297971, -53.88517926,   8.774073  ,   5.42019283,\n",
       "        86.05391136, -85.7848458 ,  53.00681537,  76.74560038,\n",
       "        68.33098258,   7.26728419, -33.2694804 , -45.59132759,\n",
       "        55.13612707,  71.85498249,  48.63330202,  71.49164261,\n",
       "       -59.57784218,  41.12737562, -24.68630955,  68.25859954,\n",
       "        52.18482361,  81.83543911, -80.7875132 ,  14.96791481,\n",
       "        68.38488309, -60.61343169,  36.70655862, -35.88468232,\n",
       "       -52.83650693,   9.39812221, -46.95561632, -27.12804773,\n",
       "        65.90203412, -11.04306458, -87.47350586,  89.88102815,\n",
       "       -46.80008786, -80.59685809, -70.05530417, -73.9106619 ,\n",
       "        51.32629151,  -4.3052116 ,  83.93253902, -23.16742125,\n",
       "       -36.59541576, -75.85400598,  72.69477631,  79.84941767,\n",
       "       -84.48998753, -26.93455358])"
      ]
     },
     "execution_count": 15,
     "metadata": {},
     "output_type": "execute_result"
    }
   ],
   "source": [
    "# Use NumPy to generate an array of 50 random floating-point decimal between -90 and +90\n",
    "np.random.uniform(-90.000, 90.000, size=50)"
   ]
  },
  {
   "cell_type": "code",
   "execution_count": 16,
   "id": "041adec2",
   "metadata": {},
   "outputs": [],
   "source": [
    "# Import timeit.\n",
    "import timeit"
   ]
  },
  {
   "cell_type": "code",
   "execution_count": 17,
   "id": "7d7f2fbb",
   "metadata": {},
   "outputs": [
    {
     "name": "stdout",
     "output_type": "stream",
     "text": [
      "11.5 µs ± 358 ns per loop (mean ± std. dev. of 7 runs, 100000 loops each)\n"
     ]
    }
   ],
   "source": [
    "# Audit time to run random-number generation code for 7 runs and 1,000 loops per run (Method #1)\n",
    "%timeit np.random.uniform(-90.000, 90.000, size=1500)"
   ]
  },
  {
   "cell_type": "code",
   "execution_count": 23,
   "id": "7db9c0e0",
   "metadata": {},
   "outputs": [
    {
     "name": "stdout",
     "output_type": "stream",
     "text": [
      "1.46 ms ± 28.8 µs per loop (mean ± std. dev. of 7 runs, 1000 loops each)\n"
     ]
    }
   ],
   "source": [
    "# Audit time to run random-number generation code for 7 runs and 1,000 loops per run (Method #2)\n",
    "def latitudes(size):\n",
    "    latitudes = []\n",
    "    x = 0\n",
    "    while x < (size):\n",
    "        random_lat = random.randint(-90, 90) + random.random()\n",
    "        latitudes.append(random_lat)\n",
    "        x += 1\n",
    "    return latitudes\n",
    "\n",
    "# Call the function with 1500.\n",
    "%timeit latitudes(1500)"
   ]
  },
  {
   "cell_type": "code",
   "execution_count": 22,
   "id": "58de8c97",
   "metadata": {},
   "outputs": [
    {
     "name": "stdout",
     "output_type": "stream",
     "text": [
      "1.49 ms ± 31.7 µs per loop (mean ± std. dev. of 7 runs, 1000 loops each)\n"
     ]
    }
   ],
   "source": [
    "# Audit time to run random-number generation code using for-loop (Method #3)\n",
    "def latitudes_for_loop(size):\n",
    "    latitudes = []\n",
    "    for x in range(0,size):\n",
    "        random_lat = random.randint(-90, 90) + random.random()\n",
    "        latitudes.append(random_lat)\n",
    "        x += 1\n",
    "    return latitudes\n",
    "\n",
    "# Call the function with 1500.\n",
    "%timeit latitudes_for_loop(1500)"
   ]
  },
  {
   "cell_type": "code",
   "execution_count": null,
   "id": "fab781af",
   "metadata": {},
   "outputs": [],
   "source": []
  }
 ],
 "metadata": {
  "kernelspec": {
   "display_name": "PythonData",
   "language": "python",
   "name": "pythondata"
  },
  "language_info": {
   "codemirror_mode": {
    "name": "ipython",
    "version": 3
   },
   "file_extension": ".py",
   "mimetype": "text/x-python",
   "name": "python",
   "nbconvert_exporter": "python",
   "pygments_lexer": "ipython3",
   "version": "3.7.13"
  }
 },
 "nbformat": 4,
 "nbformat_minor": 5
}
